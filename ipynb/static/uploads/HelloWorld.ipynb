{
 "cells": [
  {
   "cell_type": "markdown",
   "metadata": {
    "id": "K7Txs6YVb9bG"
   },
   "source": [
    "This is my **first colab**.\n",
    "\n",
    "Here we demonstrate:\n",
    "1.   How to print using Python print statement\n",
    "2.   Perform basic mathematical operations\n",
    "\n"
   ]
  },
  {
   "cell_type": "code",
   "execution_count": null,
   "metadata": {
    "colab": {
     "base_uri": "https://localhost:8080/",
     "height": 34
    },
    "id": "BvZuGTkTbXBZ",
    "outputId": "c296f9c8-81c6-4edc-b573-e9fcc54dce87"
   },
   "outputs": [
    {
     "name": "stdout",
     "output_type": "stream",
     "text": [
      "Hello World!\n"
     ]
    }
   ],
   "source": [
    "print (\"Hello World!\")"
   ]
  },
  {
   "cell_type": "markdown",
   "metadata": {
    "id": "TUUrgZvQcaQx"
   },
   "source": [
    "Perform addition of two numbers."
   ]
  },
  {
   "cell_type": "code",
   "execution_count": null,
   "metadata": {
    "colab": {
     "base_uri": "https://localhost:8080/",
     "height": 34
    },
    "id": "TlytVHShcZrI",
    "outputId": "62446ec5-8a03-4da7-dbbb-79b664646fa6"
   },
   "outputs": [
    {
     "name": "stdout",
     "output_type": "stream",
     "text": [
      "5\n"
     ]
    }
   ],
   "source": [
    "a = 3\n",
    "b = 2\n",
    "y = a + b\n",
    "print (y)"
   ]
  },
  {
   "cell_type": "markdown",
   "metadata": {
    "id": "HRxjggxKcmcO"
   },
   "source": [
    "Initialize the variables."
   ]
  },
  {
   "cell_type": "code",
   "execution_count": null,
   "metadata": {
    "id": "7RcEkP0vco0K"
   },
   "outputs": [],
   "source": [
    "a = 10\n",
    "b = 20"
   ]
  },
  {
   "cell_type": "markdown",
   "metadata": {
    "id": "OnWx0pYncrhe"
   },
   "source": [
    "Add $a$ and $b$ to get $a+b$."
   ]
  },
  {
   "cell_type": "code",
   "execution_count": null,
   "metadata": {
    "id": "5RgKcmxycyjX"
   },
   "outputs": [],
   "source": [
    "y = a + b"
   ]
  },
  {
   "cell_type": "markdown",
   "metadata": {
    "id": "7Rt8fpm3c0au"
   },
   "source": [
    "Print y"
   ]
  },
  {
   "cell_type": "code",
   "execution_count": null,
   "metadata": {
    "colab": {
     "base_uri": "https://localhost:8080/",
     "height": 34
    },
    "id": "65Rvh7LDc1_X",
    "outputId": "40527d38-1463-40c3-fb6f-521dbabca91e"
   },
   "outputs": [
    {
     "name": "stdout",
     "output_type": "stream",
     "text": [
      "30\n"
     ]
    }
   ],
   "source": [
    "print (y)"
   ]
  }
 ],
 "metadata": {
  "colab": {
   "name": "HelloWorld.ipynb",
   "provenance": []
  },
  "kernelspec": {
   "display_name": "Python 3 (ipykernel)",
   "language": "python",
   "name": "python3"
  },
  "language_info": {
   "codemirror_mode": {
    "name": "ipython",
    "version": 3
   },
   "file_extension": ".py",
   "mimetype": "text/x-python",
   "name": "python",
   "nbconvert_exporter": "python",
   "pygments_lexer": "ipython3",
   "version": "3.10.13"
  }
 },
 "nbformat": 4,
 "nbformat_minor": 1
}
